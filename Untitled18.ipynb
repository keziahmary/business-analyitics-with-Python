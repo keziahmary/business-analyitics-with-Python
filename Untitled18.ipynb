{
  "nbformat": 4,
  "nbformat_minor": 0,
  "metadata": {
    "colab": {
      "provenance": [],
      "authorship_tag": "ABX9TyMzsQCBjGEiIgjvDFsGcHlr",
      "include_colab_link": true
    },
    "kernelspec": {
      "name": "python3",
      "display_name": "Python 3"
    },
    "language_info": {
      "name": "python"
    }
  },
  "cells": [
    {
      "cell_type": "markdown",
      "metadata": {
        "id": "view-in-github",
        "colab_type": "text"
      },
      "source": [
        "<a href=\"https://colab.research.google.com/github/keziahmary/business-analyitics-with-Python/blob/main/Untitled18.ipynb\" target=\"_parent\"><img src=\"https://colab.research.google.com/assets/colab-badge.svg\" alt=\"Open In Colab\"/></a>"
      ]
    },
    {
      "cell_type": "code",
      "execution_count": null,
      "metadata": {
        "id": "2waV3lHDHga1"
      },
      "outputs": [],
      "source": [
        "import numpy as np\n",
        "import matplotlib.pyplot as plt\n",
        "import pandas as pd"
      ]
    },
    {
      "cell_type": "code",
      "source": [
        "dataset = pd.read_csv('/content/RELIANCE.NS (1).csv')"
      ],
      "metadata": {
        "id": "SQL5HFJcHlIh"
      },
      "execution_count": null,
      "outputs": []
    },
    {
      "cell_type": "code",
      "source": [
        "x = dataset.iloc[:, :-1].values\n",
        "x"
      ],
      "metadata": {
        "colab": {
          "base_uri": "https://localhost:8080/"
        },
        "id": "FKCf-steH-3D",
        "outputId": "3217196e-e982-4b3b-c216-1ee1eea09cfd"
      },
      "execution_count": null,
      "outputs": [
        {
          "output_type": "execute_result",
          "data": {
            "text/plain": [
              "array([[  1.],\n",
              "       [  2.],\n",
              "       [  3.],\n",
              "       [  4.],\n",
              "       [  5.],\n",
              "       [  6.],\n",
              "       [  7.],\n",
              "       [  8.],\n",
              "       [  9.],\n",
              "       [ 10.],\n",
              "       [ 11.],\n",
              "       [ 12.],\n",
              "       [ 13.],\n",
              "       [ 14.],\n",
              "       [ 15.],\n",
              "       [ 16.],\n",
              "       [ 17.],\n",
              "       [ 18.],\n",
              "       [ 19.],\n",
              "       [ 20.],\n",
              "       [ 21.],\n",
              "       [ 22.],\n",
              "       [ 23.],\n",
              "       [ 24.],\n",
              "       [ 25.],\n",
              "       [ 26.],\n",
              "       [ 27.],\n",
              "       [ 28.],\n",
              "       [ 29.],\n",
              "       [ 30.],\n",
              "       [ 31.],\n",
              "       [ 32.],\n",
              "       [ 33.],\n",
              "       [ 34.],\n",
              "       [ 35.],\n",
              "       [ 36.],\n",
              "       [ 37.],\n",
              "       [ 38.],\n",
              "       [ 39.],\n",
              "       [ 40.],\n",
              "       [ 41.],\n",
              "       [ 42.],\n",
              "       [ 43.],\n",
              "       [ 44.],\n",
              "       [ 45.],\n",
              "       [ 46.],\n",
              "       [ 47.],\n",
              "       [ 48.],\n",
              "       [ 49.],\n",
              "       [ 50.],\n",
              "       [ 51.],\n",
              "       [ 52.],\n",
              "       [ 53.],\n",
              "       [ 54.],\n",
              "       [ 55.],\n",
              "       [ 56.],\n",
              "       [ 57.],\n",
              "       [ 58.],\n",
              "       [ 59.],\n",
              "       [ 60.],\n",
              "       [ 61.],\n",
              "       [ 62.],\n",
              "       [ 63.],\n",
              "       [ 64.],\n",
              "       [ 65.],\n",
              "       [ 66.],\n",
              "       [ 67.],\n",
              "       [ 68.],\n",
              "       [ 69.],\n",
              "       [ 70.],\n",
              "       [ 71.],\n",
              "       [ 72.],\n",
              "       [ 73.],\n",
              "       [ 74.],\n",
              "       [ 75.],\n",
              "       [ 76.],\n",
              "       [ 77.],\n",
              "       [ 78.],\n",
              "       [ 79.],\n",
              "       [ 80.],\n",
              "       [ 81.],\n",
              "       [ 82.],\n",
              "       [ 83.],\n",
              "       [ 84.],\n",
              "       [ 85.],\n",
              "       [ 86.],\n",
              "       [ 87.],\n",
              "       [ 88.],\n",
              "       [ 89.],\n",
              "       [ 90.],\n",
              "       [ 91.],\n",
              "       [ 92.],\n",
              "       [ 93.],\n",
              "       [ 94.],\n",
              "       [ 95.],\n",
              "       [ 96.],\n",
              "       [ 97.],\n",
              "       [ 98.],\n",
              "       [ 99.],\n",
              "       [100.],\n",
              "       [101.],\n",
              "       [102.],\n",
              "       [103.],\n",
              "       [104.],\n",
              "       [105.],\n",
              "       [106.],\n",
              "       [107.],\n",
              "       [108.],\n",
              "       [109.],\n",
              "       [110.],\n",
              "       [111.],\n",
              "       [112.],\n",
              "       [113.],\n",
              "       [114.],\n",
              "       [115.],\n",
              "       [116.],\n",
              "       [117.],\n",
              "       [118.],\n",
              "       [119.],\n",
              "       [120.],\n",
              "       [121.],\n",
              "       [122.],\n",
              "       [123.],\n",
              "       [124.],\n",
              "       [125.],\n",
              "       [126.],\n",
              "       [127.],\n",
              "       [128.],\n",
              "       [129.],\n",
              "       [130.],\n",
              "       [131.],\n",
              "       [132.],\n",
              "       [133.],\n",
              "       [134.],\n",
              "       [135.],\n",
              "       [136.],\n",
              "       [137.],\n",
              "       [138.],\n",
              "       [139.],\n",
              "       [140.],\n",
              "       [141.],\n",
              "       [142.],\n",
              "       [143.],\n",
              "       [144.],\n",
              "       [145.],\n",
              "       [146.],\n",
              "       [147.],\n",
              "       [148.],\n",
              "       [149.],\n",
              "       [150.],\n",
              "       [151.],\n",
              "       [152.],\n",
              "       [153.],\n",
              "       [154.],\n",
              "       [155.],\n",
              "       [156.],\n",
              "       [157.],\n",
              "       [158.],\n",
              "       [159.],\n",
              "       [160.],\n",
              "       [161.],\n",
              "       [162.],\n",
              "       [163.],\n",
              "       [164.],\n",
              "       [165.],\n",
              "       [166.],\n",
              "       [167.],\n",
              "       [168.],\n",
              "       [169.],\n",
              "       [170.],\n",
              "       [171.],\n",
              "       [172.],\n",
              "       [173.],\n",
              "       [174.],\n",
              "       [175.],\n",
              "       [176.],\n",
              "       [177.],\n",
              "       [178.],\n",
              "       [179.],\n",
              "       [180.],\n",
              "       [181.],\n",
              "       [182.],\n",
              "       [183.],\n",
              "       [184.],\n",
              "       [185.],\n",
              "       [186.],\n",
              "       [187.],\n",
              "       [188.],\n",
              "       [189.],\n",
              "       [190.],\n",
              "       [191.],\n",
              "       [192.],\n",
              "       [193.],\n",
              "       [194.],\n",
              "       [195.],\n",
              "       [196.],\n",
              "       [197.],\n",
              "       [198.],\n",
              "       [199.],\n",
              "       [200.],\n",
              "       [201.],\n",
              "       [202.],\n",
              "       [203.],\n",
              "       [204.],\n",
              "       [205.],\n",
              "       [206.],\n",
              "       [207.],\n",
              "       [208.],\n",
              "       [209.],\n",
              "       [210.],\n",
              "       [211.],\n",
              "       [212.],\n",
              "       [213.],\n",
              "       [214.],\n",
              "       [215.],\n",
              "       [216.],\n",
              "       [217.],\n",
              "       [218.],\n",
              "       [219.],\n",
              "       [220.],\n",
              "       [221.],\n",
              "       [222.],\n",
              "       [223.],\n",
              "       [224.],\n",
              "       [225.],\n",
              "       [226.],\n",
              "       [227.],\n",
              "       [228.],\n",
              "       [229.],\n",
              "       [230.],\n",
              "       [231.],\n",
              "       [232.],\n",
              "       [233.],\n",
              "       [234.],\n",
              "       [235.],\n",
              "       [236.],\n",
              "       [237.],\n",
              "       [238.],\n",
              "       [239.],\n",
              "       [240.],\n",
              "       [241.],\n",
              "       [242.],\n",
              "       [243.],\n",
              "       [244.],\n",
              "       [245.],\n",
              "       [246.],\n",
              "       [247.],\n",
              "       [248.],\n",
              "       [249.]])"
            ]
          },
          "metadata": {},
          "execution_count": 3
        }
      ]
    },
    {
      "cell_type": "code",
      "source": [
        "y = dataset.iloc[:, -1].values\n",
        "y\n",
        "     "
      ],
      "metadata": {
        "colab": {
          "base_uri": "https://localhost:8080/"
        },
        "id": "HyYMASZxIEcv",
        "outputId": "340f51e9-849f-41b8-d4af-d97059e1d186"
      },
      "execution_count": null,
      "outputs": [
        {
          "output_type": "execute_result",
          "data": {
            "text/plain": [
              "array([2243.      , 2334.449951, 2400.      , 2353.      , 2278.699951,\n",
              "       2211.5     , 2236.      , 2400.      , 2376.050049, 2386.899902,\n",
              "       2427.949951, 2382.      , 2432.75    , 2444.      , 2460.100098,\n",
              "       2523.      , 2510.      , 2582.5     , 2610.      , 2638.      ,\n",
              "       2639.899902, 2664.949951, 2636.      , 2655.449951, 2651.100098,\n",
              "       2587.100098, 2595.100098, 2560.      , 2600.      , 2587.      ,\n",
              "       2574.5     , 2533.      , 2558.      , 2657.100098, 2750.899902,\n",
              "       2758.899902, 2742.399902, 2710.      , 2755.850098, 2809.949951,\n",
              "       2856.149902, 2762.      , 2785.      , 2723.5     , 2612.199951,\n",
              "       2574.949951, 2495.      , 2472.649902, 2427.5     , 2426.      ,\n",
              "       2434.449951, 2435.100098, 2539.649902, 2484.      , 2512.5     ,\n",
              "       2631.5     , 2607.      , 2635.      , 2624.399902, 2593.050049,\n",
              "       2615.      , 2641.399902, 2634.300049, 2634.      , 2744.      ,\n",
              "       2780.      , 2769.899902, 2772.75    , 2710.      , 2771.899902,\n",
              "       2650.      , 2650.050049, 2617.550049, 2623.      , 2560.      ,\n",
              "       2605.      , 2560.      , 2558.100098, 2515.050049, 2480.      ,\n",
              "       2544.949951, 2482.100098, 2507.199951, 2580.      , 2574.899902,\n",
              "       2378.949951, 2423.      , 2420.100098, 2425.899902, 2418.      ,\n",
              "       2376.5     , 2404.      , 2427.300049, 2388.      , 2415.      ,\n",
              "       2421.      , 2400.300049, 2540.      , 2494.      , 2500.      ,\n",
              "       2467.449951, 2421.100098, 2419.949951, 2436.      , 2474.699951,\n",
              "       2519.149902, 2572.5     , 2600.      , 2610.      , 2576.      ,\n",
              "       2531.      , 2576.899902, 2603.100098, 2590.300049, 2646.199951,\n",
              "       2665.      , 2660.      , 2650.      , 2617.      , 2594.      ,\n",
              "       2640.100098, 2648.949951, 2633.      , 2585.      , 2614.      ,\n",
              "       2582.649902, 2560.399902, 2531.      , 2573.      , 2575.      ,\n",
              "       2588.25    , 2610.      , 2570.550049, 2618.      , 2575.      ,\n",
              "       2583.      , 2543.75    , 2499.199951, 2522.449951, 2496.75    ,\n",
              "       2486.      , 2485.      , 2394.050049, 2394.      , 2360.350098,\n",
              "       2360.      , 2311.      , 2391.5     , 2397.800049, 2429.      ,\n",
              "       2414.649902, 2405.      , 2414.      , 2352.      , 2371.399902,\n",
              "       2415.      , 2355.      , 2422.      , 2454.5     , 2485.      ,\n",
              "       2507.699951, 2460.      , 2499.      , 2458.      , 2465.      ,\n",
              "       2541.      , 2600.      , 2532.300049, 2529.850098, 2553.899902,\n",
              "       2591.      , 2610.300049, 2590.      , 2600.      , 2630.75    ,\n",
              "       2622.300049, 2610.      , 2584.949951, 2606.75    , 2588.      ,\n",
              "       2545.      , 2575.      , 2566.      , 2589.      , 2608.899902,\n",
              "       2703.949951, 2712.5     , 2741.800049, 2730.      , 2712.      ,\n",
              "       2665.100098, 2685.      , 2660.      , 2646.      , 2585.5     ,\n",
              "       2613.100098, 2637.649902, 2602.5     , 2571.      , 2581.      ,\n",
              "       2583.899902, 2621.      , 2598.      , 2563.300049, 2514.75    ,\n",
              "       2530.      , 2538.      , 2527.      , 2545.100098, 2550.      ,\n",
              "       2565.050049, 2557.      , 2523.5     , 2526.649902, 2545.300049,\n",
              "       2606.      , 2552.5     , 2524.850098, 2458.399902, 2472.699951,\n",
              "       2458.      , 2473.5     , 2472.899902, 2475.      , 2449.      ,\n",
              "       2440.      , 2412.449951, 2384.399902, 2331.699951, 2382.      ,\n",
              "       2379.949951, 2318.      , 2349.      , 2315.      , 2312.      ,\n",
              "       2313.      , 2353.449951, 2354.899902, 2340.199951, 2329.949951,\n",
              "       2376.      , 2449.449951, 2420.      , 2445.      , 2424.      ,\n",
              "       2425.949951, 2378.      , 2372.      , 2382.      ])"
            ]
          },
          "metadata": {},
          "execution_count": 4
        }
      ]
    },
    {
      "cell_type": "code",
      "source": [
        "from sklearn.model_selection import train_test_split\n",
        "x_train, x_test, y_train, y_test = train_test_split(x, y, test_size = 0.2, random_state = 0)\n",
        "     \n"
      ],
      "metadata": {
        "id": "H1rIDGvCIInf"
      },
      "execution_count": null,
      "outputs": []
    },
    {
      "cell_type": "code",
      "source": [
        "from sklearn.linear_model import LinearRegression\n",
        "regressor = LinearRegression()\n",
        "regressor.fit(x_train, y_train)\n",
        "     "
      ],
      "metadata": {
        "colab": {
          "base_uri": "https://localhost:8080/"
        },
        "id": "-GVRZznFIMc3",
        "outputId": "4be71fcd-da29-44cc-8d7c-50ce4c5f61ae"
      },
      "execution_count": null,
      "outputs": [
        {
          "output_type": "execute_result",
          "data": {
            "text/plain": [
              "LinearRegression()"
            ]
          },
          "metadata": {},
          "execution_count": 6
        }
      ]
    },
    {
      "cell_type": "code",
      "source": [
        "y_pred = regressor.predict(x_test)"
      ],
      "metadata": {
        "id": "6UM_qcCQIPmD"
      },
      "execution_count": null,
      "outputs": []
    },
    {
      "cell_type": "code",
      "source": [
        "plt.scatter(x_test, y_test, color = 'red')\n",
        "plt.scatter(x_train, y_train, color = 'green')\n",
        "plt.plot(x_test, y_pred, color = 'blue')\n",
        "plt.xlabel('Volume')\n",
        "plt.ylabel('Profit')\n",
        "plt.show()"
      ],
      "metadata": {
        "id": "bDsSgDG2ITdE",
        "outputId": "c9852641-7f48-4f4a-fe43-f7dfb8e6b100",
        "colab": {
          "base_uri": "https://localhost:8080/",
          "height": 279
        }
      },
      "execution_count": null,
      "outputs": [
        {
          "output_type": "display_data",
          "data": {
            "text/plain": [
              "<Figure size 432x288 with 1 Axes>"
            ],
            "image/png": "[encoded data removed]"
          },
          "metadata": {
            "needs_background": "light"
          }
        }
      ]
    }
  ]
}